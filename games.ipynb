{
  "nbformat": 4,
  "nbformat_minor": 0,
  "metadata": {
    "colab": {
      "provenance": [],
      "authorship_tag": "ABX9TyOYwimIufYvSmyV+SAWTwAc",
      "include_colab_link": true
    },
    "kernelspec": {
      "name": "python3",
      "display_name": "Python 3"
    },
    "language_info": {
      "name": "python"
    }
  },
  "cells": [
    {
      "cell_type": "markdown",
      "metadata": {
        "id": "view-in-github",
        "colab_type": "text"
      },
      "source": [
        "<a href=\"https://colab.research.google.com/github/d-hackmt/Treasure-hunt-pyhon/blob/main/games.ipynb\" target=\"_parent\"><img src=\"https://colab.research.google.com/assets/colab-badge.svg\" alt=\"Open In Colab\"/></a>"
      ]
    },
    {
      "cell_type": "markdown",
      "source": [
        "## Treasure hunt breakdown"
      ],
      "metadata": {
        "id": "KrLqztObn136"
      }
    },
    {
      "cell_type": "code",
      "execution_count": null,
      "metadata": {
        "id": "BTByMUfsu9-q"
      },
      "outputs": [],
      "source": [
        "map_layout = [\n",
        "    [\"Start\", \"Empty\", \"Clue\"],\n",
        "    [\"Empty\", \"Clue\", \"Empty\"],\n",
        "    [\"Empty\", \"Empty\", \"Treasure\"]\n",
        "]"
      ]
    },
    {
      "cell_type": "code",
      "source": [
        "player_position = [0, 0]  # Starting position (row 0, column 0)"
      ],
      "metadata": {
        "id": "P3KCbkhZvRiI"
      },
      "execution_count": null,
      "outputs": []
    },
    {
      "cell_type": "code",
      "source": [
        "def display_instructions():\n",
        "    print(\"Welcome to the Treasure Hunt!\")\n",
        "    print(\"Navigate through the grid to find the hidden treasure.\")\n",
        "    print(\"You can move 'up', 'down', 'left', or 'right' based on clues.\")\n",
        "    print(\"Good luck!\\n\")"
      ],
      "metadata": {
        "id": "RMRqO43kvWnE"
      },
      "execution_count": null,
      "outputs": []
    },
    {
      "cell_type": "code",
      "source": [
        "def move_player(position):\n",
        "    move = input(\"Enter your move (up, down, left, right): \").lower()\n",
        "    if move == \"up\" and position[0] > 0:\n",
        "        position[0] -= 1\n",
        "    elif move == \"down\" and position[0] < len(map_layout) - 1:\n",
        "        position[0] += 1\n",
        "    elif move == \"left\" and position[1] > 0:\n",
        "        position[1] -= 1\n",
        "    elif move == \"right\" and position[1] < len(map_layout[0]) - 1:\n",
        "        position[1] += 1\n",
        "    else:\n",
        "        print(\"Invalid move. Try again.\")\n",
        "    return position"
      ],
      "metadata": {
        "id": "QhUsp-9Tvfex"
      },
      "execution_count": null,
      "outputs": []
    },
    {
      "cell_type": "code",
      "source": [
        "def check_location(position):\n",
        "    location = map_layout[position[0]][position[1]]\n",
        "    if location == \"Clue\":\n",
        "        print(\"You found a clue! Keep searching.\")\n",
        "    elif location == \"Treasure\":\n",
        "        print(\"Congratulations! You found the treasure!\")\n",
        "        return True\n",
        "    else:\n",
        "        print(\"There's nothing here. Keep moving.\")\n",
        "    return False"
      ],
      "metadata": {
        "id": "AQoWH4CCvipW"
      },
      "execution_count": null,
      "outputs": []
    },
    {
      "cell_type": "code",
      "source": [
        "def start_game(player_position):\n",
        "    display_instructions()\n",
        "    treasure_found = False\n",
        "\n",
        "    while not treasure_found:\n",
        "        print(f\"You are at position: {player_position}\")\n",
        "        player_position = move_player(player_position)\n",
        "        treasure_found = check_location(player_position)\n",
        "\n",
        "# Start the game with player_position as an argument\n",
        "start_game([0, 0])"
      ],
      "metadata": {
        "colab": {
          "base_uri": "https://localhost:8080/"
        },
        "id": "19_dz4qCvjrD",
        "outputId": "f305706f-bef5-45aa-9e12-caed73550397"
      },
      "execution_count": null,
      "outputs": [
        {
          "output_type": "stream",
          "name": "stdout",
          "text": [
            "Welcome to the Treasure Hunt!\n",
            "Navigate through the grid to find the hidden treasure.\n",
            "You can move 'up', 'down', 'left', or 'right' based on clues.\n",
            "Good luck!\n",
            "\n",
            "You are at position: [0, 0]\n",
            "Enter your move (up, down, left, right): Down \n",
            "Invalid move. Try again.\n",
            "There's nothing here. Keep moving.\n",
            "You are at position: [0, 0]\n",
            "Enter your move (up, down, left, right): Right\n",
            "There's nothing here. Keep moving.\n",
            "You are at position: [0, 1]\n",
            "Enter your move (up, down, left, right): Down\n",
            "You found a clue! Keep searching.\n",
            "You are at position: [1, 1]\n",
            "Enter your move (up, down, left, right): Right\n",
            "There's nothing here. Keep moving.\n",
            "You are at position: [1, 2]\n",
            "Enter your move (up, down, left, right): Down\n",
            "Congratulations! You found the treasure!\n"
          ]
        }
      ]
    },
    {
      "cell_type": "markdown",
      "source": [
        "## FULL CODE Treasure Hunt\n"
      ],
      "metadata": {
        "id": "mRkeEZvvnx9p"
      }
    },
    {
      "cell_type": "code",
      "source": [
        "# Initial position\n",
        "player_position = [0, 0]\n",
        "\n",
        "def display_instructions():\n",
        "    print(\"Welcome to the Treasure Hunt!\")\n",
        "    print(\"Navigate through the grid to find the hidden treasure.\")\n",
        "    print(\"You can move 'up', 'down', 'left', or 'right' based on clues.\")\n",
        "    print(\"Good luck!\\n\")\n",
        "\n",
        "def move_player(position):\n",
        "    move = input(\"Enter your move (up, down, left, right): \").lower()\n",
        "    if move == \"up\" and position[0] > 0:\n",
        "        position[0] -= 1\n",
        "    elif move == \"down\" and position[0] < len(map_layout) - 1:\n",
        "        position[0] += 1\n",
        "    elif move == \"left\" and position[1] > 0:\n",
        "        position[1] -= 1\n",
        "    elif move == \"right\" and position[1] < len(map_layout[0]) - 1:\n",
        "        position[1] += 1\n",
        "    else:\n",
        "        print(\"Invalid move. Try again.\")\n",
        "    return position\n",
        "\n",
        "def check_location(position):\n",
        "    location = map_layout[position[0]][position[1]]\n",
        "    if location == \"Clue\":\n",
        "        print(\"You found a clue! Keep searching.\")\n",
        "    elif location == \"Treasure\":\n",
        "        print(\"Congratulations! You found the treasure!\")\n",
        "        return True\n",
        "    else:\n",
        "        print(\"There's nothing here. Keep moving.\")\n",
        "    return False\n",
        "\n",
        "def start_game():\n",
        "    global player_position  # Make player_position accessible here\n",
        "    display_instructions()\n",
        "    treasure_found = False\n",
        "\n",
        "    while not treasure_found:\n",
        "        print(f\"You are at position: {player_position}\")\n",
        "        player_position = move_player(player_position)\n",
        "        treasure_found = check_location(player_position)\n",
        "\n",
        "# Map layout with clues and a treasure\n",
        "map_layout = [\n",
        "    [\"Start\", \"Empty\", \"Clue\"],\n",
        "    [\"Empty\", \"Clue\", \"Empty\"],\n",
        "    [\"Empty\", \"Empty\", \"Treasure\"]\n",
        "]\n",
        "\n",
        "# Start the game\n",
        "start_game()"
      ],
      "metadata": {
        "colab": {
          "base_uri": "https://localhost:8080/"
        },
        "id": "Tnq3yUx5vx7K",
        "outputId": "9edc4055-b61d-47b4-81fd-ce65ca891992"
      },
      "execution_count": null,
      "outputs": [
        {
          "output_type": "stream",
          "name": "stdout",
          "text": [
            "Welcome to the Treasure Hunt!\n",
            "Navigate through the grid to find the hidden treasure.\n",
            "You can move 'up', 'down', 'left', or 'right' based on clues.\n",
            "Good luck!\n",
            "\n",
            "You are at position: [0, 0]\n",
            "Enter your move (up, down, left, right): Up\n",
            "Invalid move. Try again.\n",
            "There's nothing here. Keep moving.\n",
            "You are at position: [0, 0]\n",
            "Enter your move (up, down, left, right): Left\n",
            "Invalid move. Try again.\n",
            "There's nothing here. Keep moving.\n",
            "You are at position: [0, 0]\n",
            "Enter your move (up, down, left, right): Right\n",
            "There's nothing here. Keep moving.\n",
            "You are at position: [0, 1]\n",
            "Enter your move (up, down, left, right): Down\n",
            "You found a clue! Keep searching.\n",
            "You are at position: [1, 1]\n",
            "Enter your move (up, down, left, right): Right\n",
            "There's nothing here. Keep moving.\n",
            "You are at position: [1, 2]\n",
            "Enter your move (up, down, left, right): Down\n",
            "Congratulations! You found the treasure!\n"
          ]
        }
      ]
    },
    {
      "cell_type": "markdown",
      "source": [
        "## CARD MATCHING GAME\n"
      ],
      "metadata": {
        "id": "CBKf675xnuHR"
      }
    },
    {
      "cell_type": "code",
      "source": [
        "import random\n",
        "\n",
        "# Initialize the game\n",
        "def initialize_game(size=4):\n",
        "    \"\"\" Initialize the game board with pairs of cards. \"\"\"\n",
        "    # Create a deck of pairs\n",
        "    cards = [chr(65 + i) for i in range((size * size) // 2)] * 2\n",
        "    random.shuffle(cards)\n",
        "\n",
        "    # Create the game board\n",
        "    board = [cards[i:i + size] for i in range(0, len(cards), size)]\n",
        "    return board\n",
        "\n",
        "# Display the board\n",
        "def display_board(board, revealed):\n",
        "    \"\"\" Display the game board. \"\"\"\n",
        "    for i in range(len(board)):\n",
        "        for j in range(len(board[i])):\n",
        "            if revealed[i][j]:\n",
        "                print(board[i][j], end=' ')\n",
        "            else:\n",
        "                print('*', end=' ')\n",
        "        print()  # Newline after each row\n",
        "\n",
        "# Check if the selected cards match\n",
        "def check_match(board, first, second):\n",
        "    \"\"\" Check if the two selected cards match. \"\"\"\n",
        "    return board[first[0]][first[1]] == board[second[0]][second[1]]\n",
        "\n",
        "# Main game function\n",
        "def memory_card_game(size=4):\n",
        "    \"\"\" Main function to play the Memory Card Game. \"\"\"\n",
        "    board = initialize_game(size)\n",
        "    revealed = [[False] * size for _ in range(size)]\n",
        "    pairs_found = 0\n",
        "    total_pairs = (size * size) // 2\n",
        "\n",
        "    while pairs_found < total_pairs:\n",
        "        display_board(board, revealed)\n",
        "        print(\"Select two cards to flip (row and column): \")\n",
        "\n",
        "        # Get first card coordinates\n",
        "        first = tuple(map(int, input(\"First card (row col): \").split()))\n",
        "        revealed[first[0]][first[1]] = True\n",
        "\n",
        "        # Show the board after the first selection\n",
        "        display_board(board, revealed)\n",
        "\n",
        "        # Get second card coordinates\n",
        "        second = tuple(map(int, input(\"Second card (row col): \").split()))\n",
        "        revealed[second[0]][second[1]] = True\n",
        "\n",
        "        # Show the board after the second selection\n",
        "        display_board(board, revealed)\n",
        "\n",
        "        # Check for a match\n",
        "        if check_match(board, first, second):\n",
        "            print(\"It's a match!\")\n",
        "            pairs_found += 1\n",
        "        else:\n",
        "            print(\"Not a match. Try again.\")\n",
        "            # Hide the cards again\n",
        "            revealed[first[0]][first[1]] = False\n",
        "            revealed[second[0]][second[1]] = False\n",
        "\n",
        "        print(\"\\n\")  # Newline for spacing\n",
        "\n",
        "    print(\"Congratulations! You've found all pairs!\")\n",
        "\n",
        "# Start the game\n",
        "memory_card_game(size=4)"
      ],
      "metadata": {
        "colab": {
          "base_uri": "https://localhost:8080/"
        },
        "id": "pTrum1Fzyhr0",
        "outputId": "ea5b46f8-fd59-4a58-dc3d-8daed93e53d8"
      },
      "execution_count": null,
      "outputs": [
        {
          "output_type": "stream",
          "name": "stdout",
          "text": [
            "* * * * \n",
            "* * * * \n",
            "* * * * \n",
            "* * * * \n",
            "Select two cards to flip (row and column): \n",
            "First card (row col): 1 2\n",
            "* * * * \n",
            "* * F * \n",
            "* * * * \n",
            "* * * * \n",
            "Second card (row col): 2 0\n",
            "* * * * \n",
            "* * F * \n",
            "G * * * \n",
            "* * * * \n",
            "Not a match. Try again.\n",
            "\n",
            "\n",
            "* * * * \n",
            "* * * * \n",
            "* * * * \n",
            "* * * * \n",
            "Select two cards to flip (row and column): \n",
            "First card (row col): 3 2\n",
            "* * * * \n",
            "* * * * \n",
            "* * * * \n",
            "* * D * \n",
            "Second card (row col): 1 2\n",
            "* * * * \n",
            "* * F * \n",
            "* * * * \n",
            "* * D * \n",
            "Not a match. Try again.\n",
            "\n",
            "\n",
            "* * * * \n",
            "* * * * \n",
            "* * * * \n",
            "* * * * \n",
            "Select two cards to flip (row and column): \n"
          ]
        }
      ]
    }
  ]
}